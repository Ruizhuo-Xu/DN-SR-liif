{
 "cells": [
  {
   "cell_type": "code",
   "execution_count": 1,
   "metadata": {},
   "outputs": [],
   "source": [
    "import numpy as np\n",
    "import cv2 as cv\n",
    "import matplotlib.pyplot as plt\n",
    "from glob import glob\n",
    "from pathlib import Path\n",
    "from tqdm import tqdm\n",
    "import random\n",
    "import os"
   ]
  },
  {
   "cell_type": "code",
   "execution_count": 2,
   "metadata": {},
   "outputs": [],
   "source": [
    "path = '/home/rz/data/lock3dface/dataset_1028_new_no_aug/*/*/*.png'\n",
    "img_paths = glob(path)"
   ]
  },
  {
   "cell_type": "code",
   "execution_count": 3,
   "metadata": {},
   "outputs": [
    {
     "name": "stderr",
     "output_type": "stream",
     "text": [
      "100%|██████████| 334353/334353 [03:01<00:00, 1845.01it/s]\n"
     ]
    }
   ],
   "source": [
    "for img_path in tqdm(img_paths):\n",
    "    img = cv.imread(img_path)\n",
    "    w_hr = img.shape[0]\n",
    "    scale = random.uniform(1.0, 4.0)\n",
    "    w_lr = round(w_hr / scale)\n",
    "    img = cv.resize(img, (w_lr, w_lr))\n",
    "    # print(scale, w_lr, img.shape)\n",
    "    # img = cv.resize(img, (w_hr, w_hr))\n",
    "    if 'no_aug' in img_path:\n",
    "        img_path = img_path.replace('no_aug', 'no_aug_lr_')\n",
    "    else:\n",
    "        print('invalid path')\n",
    "        continue\n",
    "    save_dir = Path(img_path).parent\n",
    "    if not save_dir.is_dir():\n",
    "        save_dir.mkdir(parents=True, exist_ok=True)\n",
    "    cv.imwrite(img_path, img)"
   ]
  },
  {
   "cell_type": "code",
   "execution_count": 6,
   "metadata": {},
   "outputs": [
    {
     "data": {
      "text/plain": [
       "'/home/rz/data/lock3dface/dataset_1028_new_no_aug/train_set/682_Kinect_NU_1DEPTH/11_depth_normal.png'"
      ]
     },
     "execution_count": 6,
     "metadata": {},
     "output_type": "execute_result"
    }
   ],
   "source": [
    "img_path"
   ]
  },
  {
   "cell_type": "code",
   "execution_count": null,
   "metadata": {},
   "outputs": [],
   "source": []
  }
 ],
 "metadata": {
  "kernelspec": {
   "display_name": "work",
   "language": "python",
   "name": "python3"
  },
  "language_info": {
   "codemirror_mode": {
    "name": "ipython",
    "version": 3
   },
   "file_extension": ".py",
   "mimetype": "text/x-python",
   "name": "python",
   "nbconvert_exporter": "python",
   "pygments_lexer": "ipython3",
   "version": "3.8.16"
  },
  "orig_nbformat": 4
 },
 "nbformat": 4,
 "nbformat_minor": 2
}
