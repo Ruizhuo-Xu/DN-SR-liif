{
 "cells": [
  {
   "cell_type": "code",
   "execution_count": 4,
   "metadata": {},
   "outputs": [],
   "source": [
    "import numpy as np\n",
    "import cv2 as cv\n",
    "import matplotlib.pyplot as plt\n",
    "from glob import glob\n",
    "from pathlib import Path\n",
    "from tqdm import tqdm\n",
    "import random\n",
    "import os\n",
    "from utils import add_noise_Guass"
   ]
  },
  {
   "cell_type": "code",
   "execution_count": 3,
   "metadata": {},
   "outputs": [],
   "source": [
    "path = '/home/rz/data/lock3dface/dataset_1028_new_no_aug/test_set/*/*.png'\n",
    "img_paths = glob(path)"
   ]
  },
  {
   "cell_type": "code",
   "execution_count": 5,
   "metadata": {},
   "outputs": [
    {
     "name": "stderr",
     "output_type": "stream",
     "text": [
      "100%|██████████| 109150/109150 [04:42<00:00, 386.39it/s]\n"
     ]
    }
   ],
   "source": [
    "for img_path in tqdm(img_paths):\n",
    "    img = cv.imread(img_path)\n",
    "    # add noise\n",
    "    img = add_noise_Guass(img, var=0.001)\n",
    "    w_hr = img.shape[0]\n",
    "    scale = random.uniform(1.0, 4.0)\n",
    "    w_lr = round(w_hr / scale)\n",
    "    img = cv.resize(img, (w_lr, w_lr))\n",
    "    # print(scale, w_lr, img.shape)\n",
    "    # img = cv.resize(img, (w_hr, w_hr))\n",
    "    if 'no_aug' in img_path:\n",
    "        img_path = img_path.replace('no_aug', 'no_aug_lr_noise0.001')\n",
    "    else:\n",
    "        print('invalid path')\n",
    "        continue\n",
    "    save_dir = Path(img_path).parent\n",
    "    if not save_dir.is_dir():\n",
    "        save_dir.mkdir(parents=True, exist_ok=True)\n",
    "    cv.imwrite(img_path, img)"
   ]
  },
  {
   "cell_type": "code",
   "execution_count": 6,
   "metadata": {},
   "outputs": [
    {
     "data": {
      "text/plain": [
       "'/home/rz/data/lock3dface/dataset_1028_new_no_aug/train_set/682_Kinect_NU_1DEPTH/11_depth_normal.png'"
      ]
     },
     "execution_count": 6,
     "metadata": {},
     "output_type": "execute_result"
    }
   ],
   "source": [
    "img_path"
   ]
  },
  {
   "cell_type": "code",
   "execution_count": null,
   "metadata": {},
   "outputs": [],
   "source": []
  }
 ],
 "metadata": {
  "kernelspec": {
   "display_name": "work",
   "language": "python",
   "name": "python3"
  },
  "language_info": {
   "codemirror_mode": {
    "name": "ipython",
    "version": 3
   },
   "file_extension": ".py",
   "mimetype": "text/x-python",
   "name": "python",
   "nbconvert_exporter": "python",
   "pygments_lexer": "ipython3",
   "version": "3.8.16"
  },
  "orig_nbformat": 4
 },
 "nbformat": 4,
 "nbformat_minor": 2
}
